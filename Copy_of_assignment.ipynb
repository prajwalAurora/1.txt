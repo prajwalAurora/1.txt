{
  "nbformat": 4,
  "nbformat_minor": 0,
  "metadata": {
    "colab": {
      "provenance": [],
      "authorship_tag": "ABX9TyOFWdKQmG1CsBy4ymdPY766",
      "include_colab_link": true
    },
    "kernelspec": {
      "name": "python3",
      "display_name": "Python 3"
    },
    "language_info": {
      "name": "python"
    }
  },
  "cells": [
    {
      "cell_type": "markdown",
      "metadata": {
        "id": "view-in-github",
        "colab_type": "text"
      },
      "source": [
        "<a href=\"https://colab.research.google.com/github/prajwalAurora/1.txt/blob/main/Copy_of_assignment.ipynb\" target=\"_parent\"><img src=\"https://colab.research.google.com/assets/colab-badge.svg\" alt=\"Open In Colab\"/></a>"
      ]
    },
    {
      "cell_type": "code",
      "execution_count": null,
      "metadata": {
        "colab": {
          "base_uri": "https://localhost:8080/"
        },
        "id": "vCAMYEkSH03T",
        "outputId": "80a0b052-fcab-41cc-c4b9-6805075ccffa"
      },
      "outputs": [
        {
          "output_type": "stream",
          "name": "stdout",
          "text": [
            "Matrix multiplication result:\n",
            " [[14 30]\n",
            " [38 86]]\n"
          ]
        }
      ],
      "source": [
        "import numpy as np\n",
        "def matrix_multiply(A, B):\n",
        "    return np.matmul(A, B)\n",
        "A = np.array([[1, 3],\n",
        "              [5, 7]])\n",
        "B = np.array([[2, 6],\n",
        "              [4, 8]])\n",
        "result = matrix_multiply(A, B)\n",
        "print(\"Matrix multiplication result:\\n\", result)\n"
      ]
    },
    {
      "cell_type": "code",
      "source": [
        "import numpy as np\n",
        "\n",
        "# Sample dataset\n",
        "data = np.array([10, 15, 20, 25, 30])\n",
        "\n",
        "# Min-Max Scaling: rescales data to [0,1]\n",
        "def min_max_scaling(x):\n",
        "    return (x - np.min(x)) / (np.max(x) - np.min(x))\n",
        "\n",
        "# Standardization: zero mean and unit variance\n",
        "def standardize(x):\n",
        "    return (x - np.mean(x)) / np.std(x)\n",
        "\n",
        "scaled_data = min_max_scaling(data)\n",
        "standardized_data = standardize(data)\n",
        "\n",
        "print(\"Original data:\", data)\n",
        "print(\"Min-Max Scaled data:\", scaled_data)\n",
        "print(\"Standardized data:\", standardized_data)"
      ],
      "metadata": {
        "colab": {
          "base_uri": "https://localhost:8080/"
        },
        "id": "GhQqbNPTMw5U",
        "outputId": "391d7966-7914-4c05-fabd-d87a22450c57"
      },
      "execution_count": null,
      "outputs": [
        {
          "output_type": "stream",
          "name": "stdout",
          "text": [
            "Original data: [10 15 20 25 30]\n",
            "Min-Max Scaled data: [0.   0.25 0.5  0.75 1.  ]\n",
            "Standardized data: [-1.41421356 -0.70710678  0.          0.70710678  1.41421356]\n"
          ]
        }
      ]
    }
  ]
}